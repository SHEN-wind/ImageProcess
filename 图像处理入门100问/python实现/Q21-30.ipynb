{
 "cells": [
  {
   "cell_type": "code",
   "execution_count": 7,
   "metadata": {},
   "outputs": [],
   "source": [
    "import cv2 \n",
    "import numpy as np\n",
    "import matplotlib.pyplot as plt\n",
    "\n",
    "img = cv2.imread(\"../imori.jpg\")\n",
    "img_noise = cv2.imread(\"../imori_noise.jpg\")\n",
    "img_dark = cv2.imread(\"../imori_dark.jpg\")\n",
    "# img_gamma = cv2.imread(\"../imori_gamma.jpg\")\n",
    "img_gamma = img"
   ]
  },
  {
   "cell_type": "code",
   "execution_count": 29,
   "metadata": {},
   "outputs": [
    {
     "data": {
      "image/png": "[encoded data removed]",
      "text/plain": [
       "<Figure size 432x288 with 1 Axes>"
      ]
     },
     "metadata": {
      "needs_background": "light"
     },
     "output_type": "display_data"
    },
    {
     "data": {
      "image/png": "[encoded data removed]",
      "text/plain": [
       "<Figure size 432x288 with 1 Axes>"
      ]
     },
     "metadata": {
      "needs_background": "light"
     },
     "output_type": "display_data"
    }
   ],
   "source": [
    "# Q.21.直方图归一化（Histogram Normalization）  灰度图像——>【0,255】\n",
    "def histogramNormalization(img):\n",
    "    \n",
    "    #  图像值域\n",
    "    h, w = img.shape[:2]\n",
    "    min_v = 255\n",
    "    max_v = 0\n",
    "    for i in range(h):\n",
    "        v1 = min(img[i,:])\n",
    "        v2 = max(img[i,:])\n",
    "        if v1 < min_v:\n",
    "            min_v = v1\n",
    "        if v2 > max_v:\n",
    "            max_v = v2\n",
    "    \n",
    "    trans_rate = 255/(max_v - min_v)\n",
    "    \n",
    "    # 进行转换\n",
    "    new_img = np.zeros(img.shape,int)\n",
    "    for i in range(h):\n",
    "        for j in range(w):\n",
    "            new_img[i,j] = trans_rate * (img[i, j] - min_v)\n",
    "            \n",
    "    return new_img\n",
    "img_dark_gray = cv2.cvtColor(img_dark,cv2.COLOR_RGB2GRAY)\n",
    "img21 = histogramNormalization(img_dark_gray)\n",
    "\n",
    "# save and display\n",
    "cv2.imwrite(\"../answer_img_python/answer_img21_1.jpg\", img21)\n",
    "plt.figure()\n",
    "plt.hist(img_dark_gray)\n",
    "plt.show()\n",
    "plt.figure()\n",
    "plt.hist(img21)\n",
    "plt.savefig(\"../answer_img_python/answer_img21_2.png\")\n",
    "plt.show()\n",
    "            \n",
    "        "
   ]
  },
  {
   "cell_type": "code",
   "execution_count": 37,
   "metadata": {},
   "outputs": [
    {
     "name": "stdout",
     "output_type": "stream",
     "text": [
      "127.97833921430252 50.044151020811164\n"
     ]
    },
    {
     "data": {
      "image/png": "[encoded data removed]",
      "text/plain": [
       "<Figure size 432x288 with 1 Axes>"
      ]
     },
     "metadata": {
      "needs_background": "light"
     },
     "output_type": "display_data"
    },
    {
     "data": {
      "image/png": "[encoded data removed]",
      "text/plain": [
       "<Figure size 432x288 with 1 Axes>"
      ]
     },
     "metadata": {
      "needs_background": "light"
     },
     "output_type": "display_data"
    }
   ],
   "source": [
    "# Q.22 直方图操作\n",
    "def histogramFlatten(img, m0, s0):\n",
    "    \n",
    "    # 图像值域\n",
    "    h, w = img.shape[:2]\n",
    "    img_flatten = img.flatten()  # 降维\n",
    "    \n",
    "    \n",
    "    m = np.mean(img_flatten)\n",
    "    s = np.std(img_flatten)\n",
    "    \n",
    "    \n",
    "    # 进行转换\n",
    "    new_img = np.zeros(img.shape,int)\n",
    "    for i in range(h):\n",
    "        for j in range(w):\n",
    "            v = s0 / s * (img[i, j] - m) + m0\n",
    "            # 溢出操作\n",
    "            if v < 0:\n",
    "                v = 0\n",
    "            if v > 255:\n",
    "                v = 255\n",
    "            new_img[i,j] =  v\n",
    "            \n",
    "    return new_img\n",
    "img_dark_gray = cv2.cvtColor(img_dark,cv2.COLOR_RGB2GRAY)\n",
    "img22 = histogramFlatten(img_dark_gray,128,52)\n",
    "print(np.mean(img22.flatten()),np.std(img22.flatten()))\n",
    "\n",
    "# save and display\n",
    "cv2.imwrite(\"../answer_img_python/answer_img22_1.jpg\", img22)\n",
    "plt.figure()\n",
    "plt.hist(img_dark_gray)\n",
    "plt.show()\n",
    "plt.figure()\n",
    "plt.hist(img22)\n",
    "plt.savefig(\"../answer_img_python/answer_img22_2.png\")\n",
    "plt.show()\n",
    "            "
   ]
  },
  {
   "cell_type": "code",
   "execution_count": null,
   "metadata": {},
   "outputs": [],
   "source": [
    "# Q.23 直方图均衡化（Histogram Equalization）\n",
    "def histogramEqualization(img):\n",
    "    \n",
    "    # 图像值域\n",
    "    h, w = img.shape[:2]\n",
    "    img_flatten = img.flatten()  # 降维\n",
    "    \n",
    "    # 进行转换\n",
    "    new_img = np.zeros(img.shape,int)\n",
    "    for i in range(h):\n",
    "        for j in range(w):\n",
    "            new_img[i,j] =  s0 / s * (img[i, j] - m) + m0\n",
    "            \n",
    "    return new_img\n",
    "\n",
    "img_gray = cv2.cvtColor(img,cv2.COLOR_RGB2GRAY)\n",
    "img23 = histogramEqualization(img__gray)\n",
    "\n",
    "# save and display\n",
    "cv2.imwrite(\"../answer_img_python/answer_img23_1.jpg\", img23)\n",
    "plt.figure()\n",
    "plt.hist(img_dark_gray)\n",
    "plt.show()\n",
    "plt.figure()\n",
    "plt.hist(img23)\n",
    "plt.savefig(\"../answer_img_python/answer_img23_2.png\")\n",
    "plt.show()"
   ]
  },
  {
   "cell_type": "code",
   "execution_count": null,
   "metadata": {},
   "outputs": [],
   "source": [
    "# Q.24 伽马校正（Gammma Correction）\n",
    "def gammaCorrection(img):\n",
    "    # 图像值域\n",
    "    h, w = img.shape[:2]\n",
    "    img_flatten = img.flatten()  # 降维\n",
    "    \n",
    "    # 进行转换\n",
    "    new_img = np.zeros(img.shape,int)\n",
    "    for i in range(h):\n",
    "        for j in range(w):\n",
    "            new_img[i,j] =  s0 / s * (img[i, j] - m) + m0\n",
    "            \n",
    "    return new_img\n",
    "\n",
    "img24 = gammaCorrection(img__gammay)\n",
    "\n",
    "# save and display\n",
    "cv2.imwrite(\"../answer_img_python/answer_img24.jpg\", img24)\n",
    "plt.figure()\n",
    "plt.subplot(121)\n",
    "plt.imshow(img)\n",
    "plt.subplot(122)\n",
    "plt.imshow(img24)\n",
    "plt.show()\n",
    "    "
   ]
  },
  {
   "cell_type": "code",
   "execution_count": null,
   "metadata": {},
   "outputs": [],
   "source": [
    "# Q.25 最近邻插值（Nearest-neighbor Interpolation）\n",
    "def nearest_neighborInterpolation(img, a):  # a:放大率\n",
    "    return new_img\n",
    "\n",
    "img25 = nearest_neighborInterpolation(img,1.5):  \n",
    "\n",
    "# save and display\n",
    "cv2.imwrite(\"../answer_img_python/answer_img25.jpg\", img25)\n",
    "plt.figure()\n",
    "plt.subplot(121)\n",
    "plt.imshow(img)\n",
    "plt.subplot(122)\n",
    "plt.imshow(img25)\n",
    "plt.show()   "
   ]
  }
 ],
 "metadata": {
  "kernelspec": {
   "display_name": "Python 3",
   "language": "python",
   "name": "python3"
  },
  "language_info": {
   "codemirror_mode": {
    "name": "ipython",
    "version": 3
   },
   "file_extension": ".py",
   "mimetype": "text/x-python",
   "name": "python",
   "nbconvert_exporter": "python",
   "pygments_lexer": "ipython3",
   "version": "3.7.3"
  }
 },
 "nbformat": 4,
 "nbformat_minor": 2
}
